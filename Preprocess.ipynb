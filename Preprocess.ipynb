{
 "cells": [
  {
   "cell_type": "code",
   "execution_count": 1,
   "metadata": {},
   "outputs": [],
   "source": [
    "import os\n",
    "zipdir = 'vox2_mp4.zip'\n"
   ]
  },
  {
   "cell_type": "code",
   "execution_count": 3,
   "metadata": {},
   "outputs": [],
   "source": [
    "import zipfile\n",
    "with zipfile.ZipFile(zipdir,'r') as zipObj:\n",
    "    listFiles = zipObj.namelist()"
   ]
  },
  {
   "cell_type": "code",
   "execution_count": 9,
   "metadata": {},
   "outputs": [],
   "source": [
    "import pandas as pd"
   ]
  },
  {
   "cell_type": "code",
   "execution_count": 34,
   "metadata": {},
   "outputs": [],
   "source": [
    "fid = pd.DataFrame(data={'File':listFiles})"
   ]
  },
  {
   "cell_type": "code",
   "execution_count": 35,
   "metadata": {},
   "outputs": [
    {
     "name": "stdout",
     "output_type": "stream",
     "text": [
      "1243744\n"
     ]
    },
    {
     "data": {
      "text/html": [
       "<div>\n",
       "<style scoped>\n",
       "    .dataframe tbody tr th:only-of-type {\n",
       "        vertical-align: middle;\n",
       "    }\n",
       "\n",
       "    .dataframe tbody tr th {\n",
       "        vertical-align: top;\n",
       "    }\n",
       "\n",
       "    .dataframe thead th {\n",
       "        text-align: right;\n",
       "    }\n",
       "</style>\n",
       "<table border=\"1\" class=\"dataframe\">\n",
       "  <thead>\n",
       "    <tr style=\"text-align: right;\">\n",
       "      <th></th>\n",
       "      <th>File</th>\n",
       "    </tr>\n",
       "  </thead>\n",
       "  <tbody>\n",
       "    <tr>\n",
       "      <th>0</th>\n",
       "      <td>dev/mp4/</td>\n",
       "    </tr>\n",
       "    <tr>\n",
       "      <th>1</th>\n",
       "      <td>dev/mp4/id05668/</td>\n",
       "    </tr>\n",
       "    <tr>\n",
       "      <th>2</th>\n",
       "      <td>dev/mp4/id05668/pqc_ipxncU4/</td>\n",
       "    </tr>\n",
       "    <tr>\n",
       "      <th>3</th>\n",
       "      <td>dev/mp4/id05668/pqc_ipxncU4/00098.mp4</td>\n",
       "    </tr>\n",
       "    <tr>\n",
       "      <th>4</th>\n",
       "      <td>dev/mp4/id05668/pqc_ipxncU4/00096.mp4</td>\n",
       "    </tr>\n",
       "  </tbody>\n",
       "</table>\n",
       "</div>"
      ],
      "text/plain": [
       "                                    File\n",
       "0                               dev/mp4/\n",
       "1                       dev/mp4/id05668/\n",
       "2           dev/mp4/id05668/pqc_ipxncU4/\n",
       "3  dev/mp4/id05668/pqc_ipxncU4/00098.mp4\n",
       "4  dev/mp4/id05668/pqc_ipxncU4/00096.mp4"
      ]
     },
     "execution_count": 35,
     "metadata": {},
     "output_type": "execute_result"
    }
   ],
   "source": [
    "print(len(fid))\n",
    "fid.head()"
   ]
  },
  {
   "cell_type": "code",
   "execution_count": 38,
   "metadata": {},
   "outputs": [],
   "source": [
    "archive = zipfile.ZipFile(zipdir)"
   ]
  },
  {
   "cell_type": "code",
   "execution_count": 50,
   "metadata": {},
   "outputs": [],
   "source": [
    "from pathlib import Path\n",
    "# build mini-dataset\n",
    "for i in range(1000):\n",
    "    f = fid['File'][i]\n",
    "    vid = archive.read(f)\n",
    "    if f[-4:] != '.mp4':\n",
    "        Path(f).mkdir(parents=True, exist_ok=True)\n",
    "    else:\n",
    "        file = open(f, 'wb')\n",
    "        file.write(vid)\n",
    "        file.close()"
   ]
  },
  {
   "cell_type": "code",
   "execution_count": 48,
   "metadata": {},
   "outputs": [
    {
     "data": {
      "text/plain": [
       "'.mp4'"
      ]
     },
     "execution_count": 48,
     "metadata": {},
     "output_type": "execute_result"
    }
   ],
   "source": []
  },
  {
   "cell_type": "code",
   "execution_count": null,
   "metadata": {},
   "outputs": [],
   "source": []
  },
  {
   "cell_type": "code",
   "execution_count": null,
   "metadata": {},
   "outputs": [],
   "source": []
  },
  {
   "cell_type": "code",
   "execution_count": null,
   "metadata": {},
   "outputs": [],
   "source": []
  },
  {
   "cell_type": "code",
   "execution_count": null,
   "metadata": {},
   "outputs": [],
   "source": []
  },
  {
   "cell_type": "code",
   "execution_count": 29,
   "metadata": {},
   "outputs": [],
   "source": [
    "fid = fid.loc[fid['File'].str.endswith('.mp4')]"
   ]
  },
  {
   "cell_type": "code",
   "execution_count": 30,
   "metadata": {},
   "outputs": [],
   "source": [
    "l=len(fid)\n",
    "fid['id'] = list(range(l))"
   ]
  },
  {
   "cell_type": "code",
   "execution_count": 32,
   "metadata": {},
   "outputs": [
    {
     "data": {
      "text/html": [
       "<div>\n",
       "<style scoped>\n",
       "    .dataframe tbody tr th:only-of-type {\n",
       "        vertical-align: middle;\n",
       "    }\n",
       "\n",
       "    .dataframe tbody tr th {\n",
       "        vertical-align: top;\n",
       "    }\n",
       "\n",
       "    .dataframe thead th {\n",
       "        text-align: right;\n",
       "    }\n",
       "</style>\n",
       "<table border=\"1\" class=\"dataframe\">\n",
       "  <thead>\n",
       "    <tr style=\"text-align: right;\">\n",
       "      <th></th>\n",
       "      <th>id</th>\n",
       "      <th>File</th>\n",
       "    </tr>\n",
       "  </thead>\n",
       "  <tbody>\n",
       "    <tr>\n",
       "      <th>3</th>\n",
       "      <td>0</td>\n",
       "      <td>dev/mp4/id05668/pqc_ipxncU4/00098.mp4</td>\n",
       "    </tr>\n",
       "    <tr>\n",
       "      <th>4</th>\n",
       "      <td>1</td>\n",
       "      <td>dev/mp4/id05668/pqc_ipxncU4/00096.mp4</td>\n",
       "    </tr>\n",
       "    <tr>\n",
       "      <th>5</th>\n",
       "      <td>2</td>\n",
       "      <td>dev/mp4/id05668/pqc_ipxncU4/00099.mp4</td>\n",
       "    </tr>\n",
       "    <tr>\n",
       "      <th>6</th>\n",
       "      <td>3</td>\n",
       "      <td>dev/mp4/id05668/pqc_ipxncU4/00097.mp4</td>\n",
       "    </tr>\n",
       "    <tr>\n",
       "      <th>7</th>\n",
       "      <td>4</td>\n",
       "      <td>dev/mp4/id05668/pqc_ipxncU4/00095.mp4</td>\n",
       "    </tr>\n",
       "    <tr>\n",
       "      <th>...</th>\n",
       "      <td>...</td>\n",
       "      <td>...</td>\n",
       "    </tr>\n",
       "    <tr>\n",
       "      <th>1243739</th>\n",
       "      <td>1092004</td>\n",
       "      <td>dev/mp4/id03928/MK7j7ohRcm0/00111.mp4</td>\n",
       "    </tr>\n",
       "    <tr>\n",
       "      <th>1243740</th>\n",
       "      <td>1092005</td>\n",
       "      <td>dev/mp4/id03928/MK7j7ohRcm0/00113.mp4</td>\n",
       "    </tr>\n",
       "    <tr>\n",
       "      <th>1243741</th>\n",
       "      <td>1092006</td>\n",
       "      <td>dev/mp4/id03928/MK7j7ohRcm0/00102.mp4</td>\n",
       "    </tr>\n",
       "    <tr>\n",
       "      <th>1243742</th>\n",
       "      <td>1092007</td>\n",
       "      <td>dev/mp4/id03928/MK7j7ohRcm0/00117.mp4</td>\n",
       "    </tr>\n",
       "    <tr>\n",
       "      <th>1243743</th>\n",
       "      <td>1092008</td>\n",
       "      <td>dev/mp4/id03928/MK7j7ohRcm0/00115.mp4</td>\n",
       "    </tr>\n",
       "  </tbody>\n",
       "</table>\n",
       "<p>1092009 rows × 2 columns</p>\n",
       "</div>"
      ],
      "text/plain": [
       "              id                                   File\n",
       "3              0  dev/mp4/id05668/pqc_ipxncU4/00098.mp4\n",
       "4              1  dev/mp4/id05668/pqc_ipxncU4/00096.mp4\n",
       "5              2  dev/mp4/id05668/pqc_ipxncU4/00099.mp4\n",
       "6              3  dev/mp4/id05668/pqc_ipxncU4/00097.mp4\n",
       "7              4  dev/mp4/id05668/pqc_ipxncU4/00095.mp4\n",
       "...          ...                                    ...\n",
       "1243739  1092004  dev/mp4/id03928/MK7j7ohRcm0/00111.mp4\n",
       "1243740  1092005  dev/mp4/id03928/MK7j7ohRcm0/00113.mp4\n",
       "1243741  1092006  dev/mp4/id03928/MK7j7ohRcm0/00102.mp4\n",
       "1243742  1092007  dev/mp4/id03928/MK7j7ohRcm0/00117.mp4\n",
       "1243743  1092008  dev/mp4/id03928/MK7j7ohRcm0/00115.mp4\n",
       "\n",
       "[1092009 rows x 2 columns]"
      ]
     },
     "execution_count": 32,
     "metadata": {},
     "output_type": "execute_result"
    }
   ],
   "source": [
    "fid = fid[['id','File']]\n",
    "fid"
   ]
  },
  {
   "cell_type": "code",
   "execution_count": 33,
   "metadata": {},
   "outputs": [],
   "source": [
    "fid.to_csv('train_fid.csv',index=False)"
   ]
  },
  {
   "cell_type": "code",
   "execution_count": null,
   "metadata": {},
   "outputs": [],
   "source": []
  }
 ],
 "metadata": {
  "kernelspec": {
   "display_name": "Python 3",
   "language": "python",
   "name": "python3"
  },
  "language_info": {
   "codemirror_mode": {
    "name": "ipython",
    "version": 3
   },
   "file_extension": ".py",
   "mimetype": "text/x-python",
   "name": "python",
   "nbconvert_exporter": "python",
   "pygments_lexer": "ipython3",
   "version": "3.7.7"
  }
 },
 "nbformat": 4,
 "nbformat_minor": 4
}
